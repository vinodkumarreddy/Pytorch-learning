{
  "nbformat": 4,
  "nbformat_minor": 0,
  "metadata": {
    "colab": {
      "provenance": [],
      "authorship_tag": "ABX9TyNT71owE8oeYxiniFGI5NFi",
      "include_colab_link": true
    },
    "kernelspec": {
      "name": "python3",
      "display_name": "Python 3"
    },
    "language_info": {
      "name": "python"
    }
  },
  "cells": [
    {
      "cell_type": "markdown",
      "metadata": {
        "id": "view-in-github",
        "colab_type": "text"
      },
      "source": [
        "<a href=\"https://colab.research.google.com/github/vinodkumarreddy/Pytorch-learning/blob/main/Pytorch_Intro.ipynb\" target=\"_parent\"><img src=\"https://colab.research.google.com/assets/colab-badge.svg\" alt=\"Open In Colab\"/></a>"
      ]
    },
    {
      "cell_type": "code",
      "source": [],
      "metadata": {
        "id": "YQjRm60LZ_9a"
      },
      "execution_count": null,
      "outputs": []
    },
    {
      "cell_type": "markdown",
      "source": [
        "Pytorch Tensors"
      ],
      "metadata": {
        "id": "xnpdjNcVaBKN"
      }
    },
    {
      "cell_type": "code",
      "execution_count": null,
      "metadata": {
        "id": "WqHoo17wZmZP"
      },
      "outputs": [],
      "source": [
        "import torch\n",
        "import torch.nn as nn\n",
        "import torch.nn.functional as F"
      ]
    },
    {
      "cell_type": "code",
      "source": [
        "device = \"gpu\" if torch.cuda.is_available() else \"cpu\""
      ],
      "metadata": {
        "id": "z88vca2Laqjf"
      },
      "execution_count": null,
      "outputs": []
    },
    {
      "cell_type": "code",
      "source": [
        "# Creating tensors and default dtypes\n",
        "zeros_t = torch.zeros(size = (3,4), device = device)\n",
        "ones_t = torch.ones((2,3))\n",
        "empty_t = torch.empty(4,3, device = device)\n",
        "rand_t = torch.rand((100,100), device = device)"
      ],
      "metadata": {
        "id": "M5QHw95LaIw2"
      },
      "execution_count": null,
      "outputs": []
    },
    {
      "cell_type": "code",
      "source": [
        "zeros_t.shape"
      ],
      "metadata": {
        "colab": {
          "base_uri": "https://localhost:8080/"
        },
        "id": "cKRKvjGJaTC5",
        "outputId": "42b2baff-ebcc-4a60-c829-7303882d23fc"
      },
      "execution_count": null,
      "outputs": [
        {
          "output_type": "execute_result",
          "data": {
            "text/plain": [
              "torch.Size([3, 4])"
            ]
          },
          "metadata": {},
          "execution_count": 10
        }
      ]
    },
    {
      "cell_type": "code",
      "source": [
        "zeros_t"
      ],
      "metadata": {
        "colab": {
          "base_uri": "https://localhost:8080/"
        },
        "id": "3yOpdjHobfwz",
        "outputId": "2d464053-baed-495d-ea5c-244973b2079e"
      },
      "execution_count": null,
      "outputs": [
        {
          "output_type": "execute_result",
          "data": {
            "text/plain": [
              "tensor([[0., 0., 0., 0.],\n",
              "        [0., 0., 0., 0.],\n",
              "        [0., 0., 0., 0.]])"
            ]
          },
          "metadata": {},
          "execution_count": 11
        }
      ]
    },
    {
      "cell_type": "code",
      "source": [
        "zeros_t.dtype"
      ],
      "metadata": {
        "colab": {
          "base_uri": "https://localhost:8080/"
        },
        "id": "y1TpLjEIbg02",
        "outputId": "202f6f11-ad0a-4260-aa4e-c572785c0b79"
      },
      "execution_count": null,
      "outputs": [
        {
          "output_type": "execute_result",
          "data": {
            "text/plain": [
              "torch.float32"
            ]
          },
          "metadata": {},
          "execution_count": 12
        }
      ]
    },
    {
      "cell_type": "code",
      "source": [
        "ones_t"
      ],
      "metadata": {
        "colab": {
          "base_uri": "https://localhost:8080/"
        },
        "id": "LE_oMHXDbiSe",
        "outputId": "06c9b9f7-bb79-4db7-9ef2-7e3eaa826864"
      },
      "execution_count": null,
      "outputs": [
        {
          "output_type": "execute_result",
          "data": {
            "text/plain": [
              "tensor([[1., 1., 1.],\n",
              "        [1., 1., 1.]])"
            ]
          },
          "metadata": {},
          "execution_count": 13
        }
      ]
    },
    {
      "cell_type": "code",
      "source": [
        "ones_t.dtype"
      ],
      "metadata": {
        "colab": {
          "base_uri": "https://localhost:8080/"
        },
        "id": "7gAlXQmibkVW",
        "outputId": "f048ea63-48de-41b6-8913-fbb1dd7be62d"
      },
      "execution_count": null,
      "outputs": [
        {
          "output_type": "execute_result",
          "data": {
            "text/plain": [
              "torch.float32"
            ]
          },
          "metadata": {},
          "execution_count": 14
        }
      ]
    },
    {
      "cell_type": "code",
      "source": [
        "torch.min(rand_t), torch.max(rand_t)"
      ],
      "metadata": {
        "colab": {
          "base_uri": "https://localhost:8080/"
        },
        "id": "-_sKNlJObs2S",
        "outputId": "51fc75f3-4810-4c27-9900-bee771064ca6"
      },
      "execution_count": null,
      "outputs": [
        {
          "output_type": "execute_result",
          "data": {
            "text/plain": [
              "(tensor(1.2100e-05), tensor(0.9994))"
            ]
          },
          "metadata": {},
          "execution_count": 20
        }
      ]
    },
    {
      "cell_type": "markdown",
      "source": [
        "When a random seed is set, then the random number generator generator starts to generate the same sequence of random numbers as long as the we are looking from the point from where the seed was set."
      ],
      "metadata": {
        "id": "zqV0k0_qcAFP"
      }
    },
    {
      "cell_type": "code",
      "source": [
        "torch.manual_seed(1729)\n",
        "rand_tensor_1 = torch.rand(3,4)\n",
        "rand_tensor_2 = torch.rand(4,3)\n",
        "\n",
        "torch.manual_seed(1729)\n",
        "rand_tensor_3 = torch.rand(4,3)\n",
        "rand_tensor_4 = torch.rand(3,4)"
      ],
      "metadata": {
        "id": "Yx6jrDRIb4ng"
      },
      "execution_count": null,
      "outputs": []
    },
    {
      "cell_type": "code",
      "source": [
        "rand_tensor_1, rand_tensor_2"
      ],
      "metadata": {
        "colab": {
          "base_uri": "https://localhost:8080/"
        },
        "id": "7HF1yfTcbsyq",
        "outputId": "ced2a49b-7b1f-4172-f3b2-6c69585d68ab"
      },
      "execution_count": null,
      "outputs": [
        {
          "output_type": "execute_result",
          "data": {
            "text/plain": [
              "(tensor([[0.3126, 0.3791, 0.3087, 0.0736],\n",
              "         [0.4216, 0.0691, 0.2332, 0.4047],\n",
              "         [0.2162, 0.9927, 0.4128, 0.5938]]),\n",
              " tensor([[0.6128, 0.1519, 0.0453],\n",
              "         [0.5035, 0.9978, 0.3884],\n",
              "         [0.6929, 0.1703, 0.1384],\n",
              "         [0.4759, 0.7481, 0.0361]]))"
            ]
          },
          "metadata": {},
          "execution_count": 25
        }
      ]
    },
    {
      "cell_type": "code",
      "source": [
        "rand_tensor_3, rand_tensor_4"
      ],
      "metadata": {
        "colab": {
          "base_uri": "https://localhost:8080/"
        },
        "id": "J42MMGurco-E",
        "outputId": "53db16e7-5ba0-45df-d493-478d48853225"
      },
      "execution_count": null,
      "outputs": [
        {
          "output_type": "execute_result",
          "data": {
            "text/plain": [
              "(tensor([[0.3126, 0.3791, 0.3087],\n",
              "         [0.0736, 0.4216, 0.0691],\n",
              "         [0.2332, 0.4047, 0.2162],\n",
              "         [0.9927, 0.4128, 0.5938]]),\n",
              " tensor([[0.6128, 0.1519, 0.0453, 0.5035],\n",
              "         [0.9978, 0.3884, 0.6929, 0.1703],\n",
              "         [0.1384, 0.4759, 0.7481, 0.0361]]))"
            ]
          },
          "metadata": {},
          "execution_count": 26
        }
      ]
    },
    {
      "cell_type": "code",
      "source": [
        "rand_tensor_1.flatten(), rand_tensor_3.flatten()"
      ],
      "metadata": {
        "colab": {
          "base_uri": "https://localhost:8080/"
        },
        "id": "BrKorzY4bswF",
        "outputId": "b24708ed-d939-48e5-d36c-24843d7449c3"
      },
      "execution_count": null,
      "outputs": [
        {
          "output_type": "execute_result",
          "data": {
            "text/plain": [
              "(tensor([0.3126, 0.3791, 0.3087, 0.0736, 0.4216, 0.0691, 0.2332, 0.4047, 0.2162,\n",
              "         0.9927, 0.4128, 0.5938]),\n",
              " tensor([0.3126, 0.3791, 0.3087, 0.0736, 0.4216, 0.0691, 0.2332, 0.4047, 0.2162,\n",
              "         0.9927, 0.4128, 0.5938]))"
            ]
          },
          "metadata": {},
          "execution_count": 29
        }
      ]
    },
    {
      "cell_type": "code",
      "source": [],
      "metadata": {
        "id": "zJq12pgFbst5"
      },
      "execution_count": null,
      "outputs": []
    },
    {
      "cell_type": "code",
      "source": [],
      "metadata": {
        "id": "g7tHVHXTbsrp"
      },
      "execution_count": null,
      "outputs": []
    },
    {
      "cell_type": "markdown",
      "source": [
        "Most Tensor Operations are intuitive. Broadcasting helps pytorch choose the most semantically appropriate operation even when the shapes of the tensors are not matching."
      ],
      "metadata": {
        "id": "67BEd6i-dFLb"
      }
    },
    {
      "cell_type": "code",
      "source": [
        "ones_t = torch.ones(3,4)\n",
        "twos_t = ones_t * 2\n",
        "fours_t = twos_t**2\n",
        "halfs_t = fours_t/8\n",
        "ones_t, twos_t, fours_t, halfs_t"
      ],
      "metadata": {
        "colab": {
          "base_uri": "https://localhost:8080/"
        },
        "id": "SrvmTyn0bspu",
        "outputId": "00af095c-408f-4a5f-ac11-808283a06937"
      },
      "execution_count": null,
      "outputs": [
        {
          "output_type": "execute_result",
          "data": {
            "text/plain": [
              "(tensor([[1., 1., 1., 1.],\n",
              "         [1., 1., 1., 1.],\n",
              "         [1., 1., 1., 1.]]),\n",
              " tensor([[2., 2., 2., 2.],\n",
              "         [2., 2., 2., 2.],\n",
              "         [2., 2., 2., 2.]]),\n",
              " tensor([[4., 4., 4., 4.],\n",
              "         [4., 4., 4., 4.],\n",
              "         [4., 4., 4., 4.]]),\n",
              " tensor([[0.5000, 0.5000, 0.5000, 0.5000],\n",
              "         [0.5000, 0.5000, 0.5000, 0.5000],\n",
              "         [0.5000, 0.5000, 0.5000, 0.5000]]))"
            ]
          },
          "metadata": {},
          "execution_count": 31
        }
      ]
    },
    {
      "cell_type": "code",
      "source": [
        "ones = torch.ones(3,4)\n",
        "twos = ones*2\n",
        "threes = ones + twos"
      ],
      "metadata": {
        "id": "s-DxqPVSbsns"
      },
      "execution_count": null,
      "outputs": []
    },
    {
      "cell_type": "code",
      "source": [
        "ones, twos, threes"
      ],
      "metadata": {
        "colab": {
          "base_uri": "https://localhost:8080/"
        },
        "id": "JaxbvenGbslN",
        "outputId": "c931b14f-ce41-4dd0-c42e-a66a6463acb7"
      },
      "execution_count": null,
      "outputs": [
        {
          "output_type": "execute_result",
          "data": {
            "text/plain": [
              "(tensor([[1., 1., 1., 1.],\n",
              "         [1., 1., 1., 1.],\n",
              "         [1., 1., 1., 1.]]),\n",
              " tensor([[2., 2., 2., 2.],\n",
              "         [2., 2., 2., 2.],\n",
              "         [2., 2., 2., 2.]]),\n",
              " tensor([[3., 3., 3., 3.],\n",
              "         [3., 3., 3., 3.],\n",
              "         [3., 3., 3., 3.]]))"
            ]
          },
          "metadata": {},
          "execution_count": 33
        }
      ]
    },
    {
      "cell_type": "code",
      "source": [
        "twos_1d_tensor = ones[0]"
      ],
      "metadata": {
        "id": "_q-cwNNKbsi-"
      },
      "execution_count": null,
      "outputs": []
    },
    {
      "cell_type": "code",
      "source": [
        "ones.shape, twos_1d_tensor.shape"
      ],
      "metadata": {
        "colab": {
          "base_uri": "https://localhost:8080/"
        },
        "id": "uNdZITRybsgp",
        "outputId": "f6ae42e3-1c0d-4435-8f70-5edfaa6fd7f4"
      },
      "execution_count": null,
      "outputs": [
        {
          "output_type": "execute_result",
          "data": {
            "text/plain": [
              "(torch.Size([3, 4]), torch.Size([4]))"
            ]
          },
          "metadata": {},
          "execution_count": 36
        }
      ]
    },
    {
      "cell_type": "code",
      "source": [
        "ones + twos_1d_tensor"
      ],
      "metadata": {
        "colab": {
          "base_uri": "https://localhost:8080/"
        },
        "id": "sqTEVgukbseU",
        "outputId": "f6bd96c9-2ce4-4f40-f601-e400cc4ea425"
      },
      "execution_count": null,
      "outputs": [
        {
          "output_type": "execute_result",
          "data": {
            "text/plain": [
              "tensor([[2., 2., 2., 2.],\n",
              "        [2., 2., 2., 2.],\n",
              "        [2., 2., 2., 2.]])"
            ]
          },
          "metadata": {},
          "execution_count": 37
        }
      ]
    },
    {
      "cell_type": "code",
      "source": [
        "var1 = ones[0].reshape(1, -1)\n",
        "var2 = ones[0].reshape(4, -1)"
      ],
      "metadata": {
        "id": "gvG6-CwPbpwG"
      },
      "execution_count": null,
      "outputs": []
    },
    {
      "cell_type": "code",
      "source": [
        "ones.shape, var1.shape, ones + var1"
      ],
      "metadata": {
        "colab": {
          "base_uri": "https://localhost:8080/"
        },
        "id": "FNR__0Hnbrcc",
        "outputId": "af26b1a5-d59d-461d-bf59-a0772d4004b7"
      },
      "execution_count": null,
      "outputs": [
        {
          "output_type": "execute_result",
          "data": {
            "text/plain": [
              "(torch.Size([3, 4]),\n",
              " torch.Size([1, 4]),\n",
              " tensor([[2., 2., 2., 2.],\n",
              "         [2., 2., 2., 2.],\n",
              "         [2., 2., 2., 2.]]))"
            ]
          },
          "metadata": {},
          "execution_count": 44
        }
      ]
    },
    {
      "cell_type": "code",
      "source": [
        "ones.shape, var2.shape"
      ],
      "metadata": {
        "colab": {
          "base_uri": "https://localhost:8080/"
        },
        "id": "OjSdbWsYeXHG",
        "outputId": "df4ad750-d3bf-4ab8-9be7-74ad778951d8"
      },
      "execution_count": null,
      "outputs": [
        {
          "output_type": "execute_result",
          "data": {
            "text/plain": [
              "(torch.Size([3, 4]), torch.Size([4, 1]))"
            ]
          },
          "metadata": {},
          "execution_count": 46
        }
      ]
    },
    {
      "cell_type": "code",
      "source": [
        "ones + var2"
      ],
      "metadata": {
        "colab": {
          "base_uri": "https://localhost:8080/",
          "height": 176
        },
        "id": "ICPLl3TNeN-g",
        "outputId": "0c2a5139-2724-4765-e1c7-e29d6a1eb47f"
      },
      "execution_count": null,
      "outputs": [
        {
          "output_type": "error",
          "ename": "RuntimeError",
          "evalue": "ignored",
          "traceback": [
            "\u001b[0;31m---------------------------------------------------------------------------\u001b[0m",
            "\u001b[0;31mRuntimeError\u001b[0m                              Traceback (most recent call last)",
            "\u001b[0;32m<ipython-input-45-85e8742ef327>\u001b[0m in \u001b[0;36m<cell line: 1>\u001b[0;34m()\u001b[0m\n\u001b[0;32m----> 1\u001b[0;31m \u001b[0mones\u001b[0m \u001b[0;34m+\u001b[0m \u001b[0mvar2\u001b[0m\u001b[0;34m\u001b[0m\u001b[0;34m\u001b[0m\u001b[0m\n\u001b[0m",
            "\u001b[0;31mRuntimeError\u001b[0m: The size of tensor a (3) must match the size of tensor b (4) at non-singleton dimension 0"
          ]
        }
      ]
    },
    {
      "cell_type": "markdown",
      "source": [
        "So, a tensor of shape 4 can be broadcasted and added to the tensor of shape (3,4). Similarly a tensor of shape (1,4) can be added to a tensor of shape (3,4) by broadcasting. Now, a tensor of shape (4,1) although consisting of the same number of elements will not be broadcasted. It also points towards the rule of broadcasting where we start from the end. The shapes need to be consistent according to the operation we are doing(addition requires same dimension size, while multiplication requires mxp, pxn rule) or the dimension is one in which case it will be copied and broadcasted to proceed with the operation, or the dimension simply doesn't exist in which case its the same as having one."
      ],
      "metadata": {
        "id": "R8qHcC_GefX1"
      }
    },
    {
      "cell_type": "code",
      "source": [
        "batch_size = 100\n",
        "channels = 5\n",
        "rand1 = torch.rand(batch_size, channels, 4,5)\n",
        "rand2 = torch.rand(5,2)\n",
        "rand3 = torch.matmul(rand1, rand2)\n",
        "rand4 = rand1 @ rand2"
      ],
      "metadata": {
        "id": "eRnjE5waefHd"
      },
      "execution_count": null,
      "outputs": []
    },
    {
      "cell_type": "code",
      "source": [
        "rand1.shape, rand2.shape, rand3.shape, rand4.shape"
      ],
      "metadata": {
        "colab": {
          "base_uri": "https://localhost:8080/"
        },
        "id": "0Go19PbyefEG",
        "outputId": "7395fb47-0189-4c90-d9b8-a8149a6d5413"
      },
      "execution_count": null,
      "outputs": [
        {
          "output_type": "execute_result",
          "data": {
            "text/plain": [
              "(torch.Size([100, 5, 4, 5]),\n",
              " torch.Size([5, 2]),\n",
              " torch.Size([100, 5, 4, 2]),\n",
              " torch.Size([100, 5, 4, 2]))"
            ]
          },
          "metadata": {},
          "execution_count": 49
        }
      ]
    },
    {
      "cell_type": "code",
      "source": [],
      "metadata": {
        "id": "iif0m_OsefBd"
      },
      "execution_count": null,
      "outputs": []
    },
    {
      "cell_type": "markdown",
      "source": [
        "There are many default pytorch mathematical functions which we can explore. These functions also have the added benefit that auto diff is supported where possible."
      ],
      "metadata": {
        "id": "DlVRHJqEm3al"
      }
    },
    {
      "cell_type": "markdown",
      "source": [
        "Building Models"
      ],
      "metadata": {
        "id": "82j5je34nNpt"
      }
    },
    {
      "cell_type": "markdown",
      "source": [
        "Here is an example of the LENET Model."
      ],
      "metadata": {
        "id": "DanphyphnTCI"
      }
    },
    {
      "cell_type": "code",
      "source": [
        "nn.Conv2d??"
      ],
      "metadata": {
        "id": "E5taNGxsoZEq"
      },
      "execution_count": null,
      "outputs": []
    },
    {
      "cell_type": "code",
      "source": [
        "class LeNet(nn.Module):\n",
        "  def __init__(self):\n",
        "    super(LeNet, self).__init__()\n",
        "    self.cnn1 = nn.Conv2d(in_channels = 1, out_channels = 6, kernel_size = 5)\n",
        "    self.cnn2 = nn.Conv2d(in_channels = 6, out_channels = 16, kernel_size = 5)\n",
        "    self.fc1 = nn.Linear(16*5*5, 120)\n",
        "    self.fc2 = nn.Linear(120, 84)\n",
        "    self.fc3 = nn.Linear(84, 10)\n",
        "\n",
        "  def forward(self, x):\n",
        "    h = F.relu(self.cnn1(x))\n",
        "    h = F.max_pool2d(h, (2,2))\n",
        "\n",
        "    h = F.relu(self.cnn2(h))\n",
        "    h = F.max_pool2d(h, 2)\n",
        "\n",
        "    h = h.reshape(h.shape[0], -1)\n",
        "    h = self.fc1(h)\n",
        "    h = F.relu(h)\n",
        "\n",
        "    h = self.fc2(h)\n",
        "    h = F.relu(h)\n",
        "\n",
        "    h = self.fc3(h)\n",
        "    return h\n",
        "\n",
        "\n"
      ],
      "metadata": {
        "id": "AJsgUgFTnPVe"
      },
      "execution_count": null,
      "outputs": []
    },
    {
      "cell_type": "markdown",
      "source": [
        "Generally any parametric based layers like convolution layer or the linear layer are available as a layer object. Purely functional operations like relu, max_pool2d are available as layers as well as functional arguments. The same network can also be defined in a different way using only layer objects."
      ],
      "metadata": {
        "id": "0ko9-KKctYQF"
      }
    },
    {
      "cell_type": "code",
      "source": [
        "lenet = LeNet()"
      ],
      "metadata": {
        "id": "iidMOXwFee9E"
      },
      "execution_count": null,
      "outputs": []
    },
    {
      "cell_type": "code",
      "source": [
        "test_input = torch.rand(size = (128, 1, 32, 32))\n",
        "out = lenet(test_input)"
      ],
      "metadata": {
        "id": "BkKNNiKPee6y"
      },
      "execution_count": null,
      "outputs": []
    },
    {
      "cell_type": "code",
      "source": [
        "out.shape"
      ],
      "metadata": {
        "colab": {
          "base_uri": "https://localhost:8080/"
        },
        "id": "UMxLiEctee4l",
        "outputId": "2b017b56-0132-47b8-bda7-60c85494bc7f"
      },
      "execution_count": null,
      "outputs": [
        {
          "output_type": "execute_result",
          "data": {
            "text/plain": [
              "torch.Size([128, 10])"
            ]
          },
          "metadata": {},
          "execution_count": 81
        }
      ]
    },
    {
      "cell_type": "code",
      "source": [
        "out"
      ],
      "metadata": {
        "colab": {
          "base_uri": "https://localhost:8080/"
        },
        "id": "5s-JRfUntWHC",
        "outputId": "402e93cd-623e-4133-f101-761f11f9edff"
      },
      "execution_count": null,
      "outputs": [
        {
          "output_type": "execute_result",
          "data": {
            "text/plain": [
              "tensor([[ 0.0593, -0.0600, -0.0168,  ...,  0.0660, -0.0722, -0.0179],\n",
              "        [ 0.0577, -0.0571, -0.0183,  ...,  0.0688, -0.0727, -0.0216],\n",
              "        [ 0.0564, -0.0623, -0.0171,  ...,  0.0693, -0.0772, -0.0187],\n",
              "        ...,\n",
              "        [ 0.0581, -0.0612, -0.0165,  ...,  0.0679, -0.0728, -0.0176],\n",
              "        [ 0.0565, -0.0597, -0.0179,  ...,  0.0661, -0.0751, -0.0208],\n",
              "        [ 0.0558, -0.0601, -0.0192,  ...,  0.0637, -0.0739, -0.0178]],\n",
              "       grad_fn=<AddmmBackward0>)"
            ]
          },
          "metadata": {},
          "execution_count": 82
        }
      ]
    },
    {
      "cell_type": "code",
      "source": [
        "class LeNetS(nn.Module):\n",
        "  def __init__(self):\n",
        "    super(LeNetS, self).__init__()\n",
        "    self.cnn1 = nn.Conv2d(in_channels = 1, out_channels = 6, kernel_size = 5)\n",
        "    self.cnn2 = nn.Conv2d(in_channels = 6, out_channels = 16, kernel_size = 5)\n",
        "    self.fc1 = nn.Linear(16*5*5, 120)\n",
        "    self.fc2 = nn.Linear(120, 84)\n",
        "    self.fc3 = nn.Linear(84, 10)\n",
        "    self.pool_layer = nn.MaxPool2d(kernel_size = 2)\n",
        "    self.relu = nn.ReLU()\n",
        "    self.flatten = nn.Flatten()\n",
        "    self.lenet_layer = nn.Sequential(\n",
        "        self.cnn1,\n",
        "        self.relu,\n",
        "        self.pool_layer,\n",
        "        self.cnn2,\n",
        "        self.relu,\n",
        "        self.pool_layer,\n",
        "        self.flatten,\n",
        "        self.fc1,\n",
        "        self.relu,\n",
        "        self.fc2,\n",
        "        self.relu,\n",
        "        self.fc3\n",
        "    )\n",
        "\n",
        "  def forward(self, input_image):\n",
        "    return self.lenet_layer(input_image)\n"
      ],
      "metadata": {
        "id": "FmhoY-VJtWDq"
      },
      "execution_count": 23,
      "outputs": []
    },
    {
      "cell_type": "code",
      "source": [
        "lenet = LeNetS()\n",
        "input_images = torch.rand(128, 1, 32, 32)\n",
        "out = lenet(input_images)"
      ],
      "metadata": {
        "id": "DwXE1JMAtWBn"
      },
      "execution_count": null,
      "outputs": []
    },
    {
      "cell_type": "code",
      "source": [
        "out.shape"
      ],
      "metadata": {
        "colab": {
          "base_uri": "https://localhost:8080/"
        },
        "id": "W1zTgFcqtV_c",
        "outputId": "b6998ef6-d65c-4ae1-dd6a-2620cb062c0a"
      },
      "execution_count": null,
      "outputs": [
        {
          "output_type": "execute_result",
          "data": {
            "text/plain": [
              "torch.Size([128, 10])"
            ]
          },
          "metadata": {},
          "execution_count": 87
        }
      ]
    },
    {
      "cell_type": "code",
      "source": [
        "out"
      ],
      "metadata": {
        "colab": {
          "base_uri": "https://localhost:8080/"
        },
        "id": "rYf_LBoltV9J",
        "outputId": "2a77582e-8b72-49f3-d468-6c632e856c6c"
      },
      "execution_count": null,
      "outputs": [
        {
          "output_type": "execute_result",
          "data": {
            "text/plain": [
              "tensor([[-0.0412, -0.0822, -0.0123,  ...,  0.0042, -0.0949,  0.0609],\n",
              "        [-0.0401, -0.0873, -0.0146,  ...,  0.0009, -0.0951,  0.0584],\n",
              "        [-0.0393, -0.0884, -0.0120,  ...,  0.0016, -0.0946,  0.0620],\n",
              "        ...,\n",
              "        [-0.0364, -0.0899, -0.0121,  ...,  0.0043, -0.0943,  0.0604],\n",
              "        [-0.0415, -0.0849, -0.0117,  ...,  0.0055, -0.0924,  0.0539],\n",
              "        [-0.0366, -0.0862, -0.0126,  ...,  0.0036, -0.0937,  0.0598]],\n",
              "       grad_fn=<AddmmBackward0>)"
            ]
          },
          "metadata": {},
          "execution_count": 88
        }
      ]
    },
    {
      "cell_type": "code",
      "source": [],
      "metadata": {
        "id": "FvbP3brM1dZ9"
      },
      "execution_count": null,
      "outputs": []
    },
    {
      "cell_type": "code",
      "source": [],
      "metadata": {
        "id": "dA1-UGuc1dWe"
      },
      "execution_count": null,
      "outputs": []
    },
    {
      "cell_type": "markdown",
      "source": [
        "# Data Sets and Data Loaders"
      ],
      "metadata": {
        "id": "GYnzdWyilKUa"
      }
    },
    {
      "cell_type": "code",
      "source": [
        "import torch\n",
        "import torchvision\n",
        "import torchvision.transforms as transforms"
      ],
      "metadata": {
        "id": "C_hVfO55lbnJ"
      },
      "execution_count": 1,
      "outputs": []
    },
    {
      "cell_type": "code",
      "source": [
        "import torch.nn as nn"
      ],
      "metadata": {
        "id": "EPveGCsPVfeC"
      },
      "execution_count": 2,
      "outputs": []
    },
    {
      "cell_type": "code",
      "source": [
        "import matplotlib.pyplot as plt"
      ],
      "metadata": {
        "id": "Ofa7n50nrWxI"
      },
      "execution_count": 3,
      "outputs": []
    },
    {
      "cell_type": "code",
      "source": [
        "lenet_transforms = transforms.Compose(\n",
        "    [\n",
        "        transforms.ToTensor(),\n",
        "        transforms.Normalize(\n",
        "            (0.4914, 0.4822, 0.4465),\n",
        "            (0.2470, 0.2435, 0.2616)\n",
        "        )\n",
        "    ]\n",
        ")"
      ],
      "metadata": {
        "id": "ZMKlZnKxlbjm"
      },
      "execution_count": 4,
      "outputs": []
    },
    {
      "cell_type": "code",
      "source": [
        "cifar_data = torchvision.datasets.CIFAR10(\n",
        "    root = \"./data\",\n",
        "    download = True,\n",
        "    train = True,\n",
        "    transform = lenet_transforms\n",
        ")"
      ],
      "metadata": {
        "colab": {
          "base_uri": "https://localhost:8080/"
        },
        "id": "cJ3OfK5noH5P",
        "outputId": "43330b1d-4c06-4026-afae-5d001a2b0dbe"
      },
      "execution_count": 5,
      "outputs": [
        {
          "output_type": "stream",
          "name": "stdout",
          "text": [
            "Downloading https://www.cs.toronto.edu/~kriz/cifar-10-python.tar.gz to ./data/cifar-10-python.tar.gz\n"
          ]
        },
        {
          "output_type": "stream",
          "name": "stderr",
          "text": [
            "100%|██████████| 170498071/170498071 [00:03<00:00, 43033009.30it/s]\n"
          ]
        },
        {
          "output_type": "stream",
          "name": "stdout",
          "text": [
            "Extracting ./data/cifar-10-python.tar.gz to ./data\n"
          ]
        }
      ]
    },
    {
      "cell_type": "code",
      "source": [
        "means = torch.tensor([0.4914, 0.4822, 0.4465])\n",
        "stdevs = torch.tensor([0.2470, 0.2435, 0.2616])"
      ],
      "metadata": {
        "id": "-biKqE-Fo2Cg"
      },
      "execution_count": 6,
      "outputs": []
    },
    {
      "cell_type": "code",
      "source": [
        "reshaped_means = means.view(size = (3, 1, -1))\n",
        "reshaped_stdevs = stdevs.view(size = (3, 1, -1))"
      ],
      "metadata": {
        "id": "Itqt1_n4pLO9"
      },
      "execution_count": 7,
      "outputs": []
    },
    {
      "cell_type": "markdown",
      "source": [
        "All the datasets in TorchVision, TorchAudio, TorchText are subclasses of the class torch.utils.data.Dataset. There are also utility classes like torchvision.datasets.ImageFolder or even create our own datasets from scratch."
      ],
      "metadata": {
        "id": "bRNo-bD8ncJo"
      }
    },
    {
      "cell_type": "code",
      "source": [],
      "metadata": {
        "id": "1jhimZ5G1dNf"
      },
      "execution_count": 7,
      "outputs": []
    },
    {
      "cell_type": "markdown",
      "source": [
        "A Dataset instantiation requires a few things to work.\n",
        "- A file path to save the data or where the data is present.\n",
        "- It also requires a flag stating if that particular data set if a test or train dataset.\n",
        "- A flag to specify if we want to download the dataset\n",
        "- Transformations we would like to use on our data."
      ],
      "metadata": {
        "id": "PDEhdSASn7dj"
      }
    },
    {
      "cell_type": "markdown",
      "source": [
        "Datasets generally are built keeping the data in mind. A lot of its functionality is tied to the format of the, the location of the data etc. While a data loader is sort of agnostic towards the data. It directly acts up on a dataset and offers some data loading functionality which is helpful for model training and development."
      ],
      "metadata": {
        "id": "4X1cKnUTofvW"
      }
    },
    {
      "cell_type": "code",
      "source": [
        "trainloader = torch.utils.data.DataLoader(cifar_data, batch_size = 16, shuffle = True, num_workers = 2)"
      ],
      "metadata": {
        "id": "SlS896Pfo8dZ"
      },
      "execution_count": 8,
      "outputs": []
    },
    {
      "cell_type": "code",
      "source": [
        "train_iterator = iter(trainloader)\n",
        "images_t,classes = next(train_iterator)"
      ],
      "metadata": {
        "id": "nwbM739R1dLO"
      },
      "execution_count": 9,
      "outputs": []
    },
    {
      "cell_type": "code",
      "source": [
        "img_grid = torchvision.utils.make_grid(\n",
        "    images_t,\n",
        "    nrow = 4\n",
        ")"
      ],
      "metadata": {
        "id": "5paw6vM71dIl"
      },
      "execution_count": 10,
      "outputs": []
    },
    {
      "cell_type": "code",
      "source": [
        "img_grid.shape"
      ],
      "metadata": {
        "colab": {
          "base_uri": "https://localhost:8080/"
        },
        "id": "KZbn9ubArf7U",
        "outputId": "b57eec97-8c17-49f0-992c-da2812bc41f1"
      },
      "execution_count": 11,
      "outputs": [
        {
          "output_type": "execute_result",
          "data": {
            "text/plain": [
              "torch.Size([3, 138, 138])"
            ]
          },
          "metadata": {},
          "execution_count": 11
        }
      ]
    },
    {
      "cell_type": "code",
      "source": [
        "img_grid = img_grid*reshaped_stdevs + reshaped_means\n",
        "img_grid_t = img_grid.transpose(0,1).transpose(1,2)"
      ],
      "metadata": {
        "id": "pEtYZ2o5rnmv"
      },
      "execution_count": 12,
      "outputs": []
    },
    {
      "cell_type": "code",
      "source": [
        "img_grid_t.shape"
      ],
      "metadata": {
        "colab": {
          "base_uri": "https://localhost:8080/"
        },
        "id": "Cav21nNJsCF4",
        "outputId": "d1ab7d20-2326-446a-edde-d48be78255d3"
      },
      "execution_count": 13,
      "outputs": [
        {
          "output_type": "execute_result",
          "data": {
            "text/plain": [
              "torch.Size([138, 138, 3])"
            ]
          },
          "metadata": {},
          "execution_count": 13
        }
      ]
    },
    {
      "cell_type": "code",
      "source": [
        "plt.imshow(img_grid_t)"
      ],
      "metadata": {
        "colab": {
          "base_uri": "https://localhost:8080/",
          "height": 451
        },
        "id": "KL3eBUgtqn1k",
        "outputId": "f5692f1c-f926-424e-a9d9-9d9d6469ae4a"
      },
      "execution_count": 14,
      "outputs": [
        {
          "output_type": "execute_result",
          "data": {
            "text/plain": [
              "<matplotlib.image.AxesImage at 0x7a99e361f490>"
            ]
          },
          "metadata": {},
          "execution_count": 14
        },
        {
          "output_type": "display_data",
          "data": {
            "text/plain": [
              "<Figure size 640x480 with 1 Axes>"
            ],
            "image/png": "[encoded data removed]"
          },
          "metadata": {}
        }
      ]
    },
    {
      "cell_type": "code",
      "source": [],
      "metadata": {
        "id": "z2gWOWU8eV0d"
      },
      "execution_count": 14,
      "outputs": []
    },
    {
      "cell_type": "code",
      "source": [
        "torch.utils.data.DataLoader??"
      ],
      "metadata": {
        "id": "XXm1jvECsgNJ"
      },
      "execution_count": 15,
      "outputs": []
    },
    {
      "cell_type": "code",
      "source": [
        "trainloader = (\n",
        "    torch\n",
        "    .utils\n",
        "    .data\n",
        "    .DataLoader(\n",
        "        cifar_data,\n",
        "        batch_size = 32,\n",
        "        shuffle = True,\n",
        "        num_workers = 2\n",
        "    )\n",
        ")"
      ],
      "metadata": {
        "id": "JJ-GZnC_vLZY"
      },
      "execution_count": 16,
      "outputs": []
    },
    {
      "cell_type": "code",
      "source": [
        "classes = ('plane', 'car', 'bird', 'cat',\n",
        "           'deer', 'dog', 'frog', 'horse', 'ship', 'truck')"
      ],
      "metadata": {
        "id": "J5Cq2hGbvLV-"
      },
      "execution_count": 17,
      "outputs": []
    },
    {
      "cell_type": "code",
      "source": [
        "class LeNetS(nn.Module):\n",
        "  def __init__(self):\n",
        "    super(LeNetS, self).__init__()\n",
        "    self.cnn1 = nn.Conv2d(in_channels = 3, out_channels = 6, kernel_size = 5)\n",
        "    self.cnn2 = nn.Conv2d(in_channels = 6, out_channels = 16, kernel_size = 5)\n",
        "    self.fc1 = nn.Linear(16*5*5, 120)\n",
        "    self.fc2 = nn.Linear(120, 84)\n",
        "    self.fc3 = nn.Linear(84, 10)\n",
        "    self.pool_layer = nn.MaxPool2d(kernel_size = 2)\n",
        "    self.relu = nn.ReLU()\n",
        "    self.flatten = nn.Flatten()\n",
        "    self.lenet_layer = nn.Sequential(\n",
        "        self.cnn1,\n",
        "        self.relu,\n",
        "        self.pool_layer,\n",
        "        self.cnn2,\n",
        "        self.relu,\n",
        "        self.pool_layer,\n",
        "        self.flatten,\n",
        "        self.fc1,\n",
        "        self.relu,\n",
        "        self.fc2,\n",
        "        self.relu,\n",
        "        self.fc3\n",
        "    )\n",
        "\n",
        "  def forward(self, input_image):\n",
        "    return self.lenet_layer(input_image)\n"
      ],
      "metadata": {
        "id": "0jxsm2crZdHo"
      },
      "execution_count": 18,
      "outputs": []
    },
    {
      "cell_type": "code",
      "source": [
        "lenet = LeNetS()"
      ],
      "metadata": {
        "id": "Sh5Nlk-8vLTc"
      },
      "execution_count": 19,
      "outputs": []
    },
    {
      "cell_type": "code",
      "source": [
        "import torch.optim as optim"
      ],
      "metadata": {
        "id": "N09MHWMJvLRP"
      },
      "execution_count": 20,
      "outputs": []
    },
    {
      "cell_type": "code",
      "source": [
        "criterion = nn.CrossEntropyLoss()\n",
        "optimizer = optim.SGD(lenet.parameters(), lr=0.001, momentum=0.9)"
      ],
      "metadata": {
        "id": "GYv4uYmVvLPN"
      },
      "execution_count": 21,
      "outputs": []
    },
    {
      "cell_type": "code",
      "source": [
        "criterion??"
      ],
      "metadata": {
        "id": "Jc4VhVhdvLM5"
      },
      "execution_count": 22,
      "outputs": []
    },
    {
      "cell_type": "markdown",
      "source": [
        "### Training Loop"
      ],
      "metadata": {
        "id": "u_0MU5CDV4ZC"
      }
    },
    {
      "cell_type": "code",
      "source": [],
      "metadata": {
        "id": "zux9tQzxZJJZ"
      },
      "execution_count": 22,
      "outputs": []
    },
    {
      "cell_type": "code",
      "source": [
        "epochs = 20\n",
        "for epoch in range(epochs):\n",
        "  running_loss = 0\n",
        "  for batch_no, batch in enumerate(trainloader):\n",
        "    lenet.train()\n",
        "    optimizer.zero_grad()\n",
        "    X, y = batch\n",
        "    out = lenet(X)\n",
        "    loss = criterion(out, y)\n",
        "    loss.backward()\n",
        "    optimizer.step()\n",
        "\n",
        "    running_loss += loss.item()\n",
        "  print(f\"Epoch - {epoch}, loss - {running_loss/batch_no}\")\n",
        "\n",
        "\n"
      ],
      "metadata": {
        "colab": {
          "base_uri": "https://localhost:8080/"
        },
        "id": "qtX9pjEavLKu",
        "outputId": "cb4c2b8f-fae9-4546-ff8f-908a6e371b2c"
      },
      "execution_count": 23,
      "outputs": [
        {
          "output_type": "stream",
          "name": "stdout",
          "text": [
            "Epoch - 0, loss - 2.0643278656482087\n",
            "Epoch - 1, loss - 1.6297876008341468\n",
            "Epoch - 2, loss - 1.4598840140044766\n",
            "Epoch - 3, loss - 1.3513382075690734\n",
            "Epoch - 4, loss - 1.2600414006184981\n",
            "Epoch - 5, loss - 1.1843767556887734\n",
            "Epoch - 6, loss - 1.1260884905212514\n",
            "Epoch - 7, loss - 1.0781187302171802\n",
            "Epoch - 8, loss - 1.0360418989319502\n",
            "Epoch - 9, loss - 0.9974151853562623\n",
            "Epoch - 10, loss - 0.9607678702561406\n",
            "Epoch - 11, loss - 0.9309059570754536\n",
            "Epoch - 12, loss - 0.899914349754855\n",
            "Epoch - 13, loss - 0.8708633648639452\n",
            "Epoch - 14, loss - 0.8442352552839797\n",
            "Epoch - 15, loss - 0.8201503958386129\n",
            "Epoch - 16, loss - 0.7943870475594427\n",
            "Epoch - 17, loss - 0.7745461132706509\n",
            "Epoch - 18, loss - 0.7513227072590902\n",
            "Epoch - 19, loss - 0.7279033928193753\n"
          ]
        }
      ]
    },
    {
      "cell_type": "code",
      "source": [
        "testset = torchvision.datasets.CIFAR10(root='./data', train=False,\n",
        "                                       download=True, transform=lenet_transforms)\n",
        "testloader = torch.utils.data.DataLoader(testset, batch_size=4,\n",
        "                                         shuffle=False, num_workers=2)"
      ],
      "metadata": {
        "colab": {
          "base_uri": "https://localhost:8080/"
        },
        "id": "NUOVO4bovLIZ",
        "outputId": "20cd0327-c881-44b9-b758-cdcd7f8d6351"
      },
      "execution_count": 24,
      "outputs": [
        {
          "output_type": "stream",
          "name": "stdout",
          "text": [
            "Files already downloaded and verified\n"
          ]
        }
      ]
    },
    {
      "cell_type": "code",
      "source": [
        "tlit = iter(testloader)\n",
        "batch = next(tlit)"
      ],
      "metadata": {
        "id": "498ypNO7boEF"
      },
      "execution_count": 25,
      "outputs": []
    },
    {
      "cell_type": "code",
      "source": [
        "X_test, y_test = batch"
      ],
      "metadata": {
        "id": "1Ewk6CpDbtfx"
      },
      "execution_count": 26,
      "outputs": []
    },
    {
      "cell_type": "code",
      "source": [
        "X_test.shape"
      ],
      "metadata": {
        "colab": {
          "base_uri": "https://localhost:8080/"
        },
        "id": "v2RMRbV3bvsx",
        "outputId": "4a61b34f-776a-4662-bc1f-d32a42dc50c8"
      },
      "execution_count": 27,
      "outputs": [
        {
          "output_type": "execute_result",
          "data": {
            "text/plain": [
              "torch.Size([4, 3, 32, 32])"
            ]
          },
          "metadata": {},
          "execution_count": 27
        }
      ]
    },
    {
      "cell_type": "code",
      "source": [
        "torch.max??"
      ],
      "metadata": {
        "id": "Z9fAZVJddYSk"
      },
      "execution_count": 28,
      "outputs": []
    },
    {
      "cell_type": "code",
      "source": [
        "with torch.no_grad():\n",
        "  out = lenet(X_test)\n",
        "  out_label = torch.max(out, dim = 1)"
      ],
      "metadata": {
        "id": "H1HznhnNbxfG"
      },
      "execution_count": 29,
      "outputs": []
    },
    {
      "cell_type": "code",
      "source": [
        "out_label"
      ],
      "metadata": {
        "colab": {
          "base_uri": "https://localhost:8080/"
        },
        "id": "XLsKD_Z8dq08",
        "outputId": "da08affd-572a-413d-ade0-b29f0e1bd916"
      },
      "execution_count": 30,
      "outputs": [
        {
          "output_type": "execute_result",
          "data": {
            "text/plain": [
              "torch.return_types.max(\n",
              "values=tensor([6.1245, 8.9721, 4.8864, 6.0610]),\n",
              "indices=tensor([3, 8, 8, 0]))"
            ]
          },
          "metadata": {},
          "execution_count": 30
        }
      ]
    },
    {
      "cell_type": "code",
      "source": [],
      "metadata": {
        "id": "xZ0MfCfPdx_B"
      },
      "execution_count": 30,
      "outputs": []
    },
    {
      "cell_type": "code",
      "source": [
        "running_loss = 0\n",
        "correct = 0\n",
        "total = 0\n",
        "with torch.no_grad():\n",
        "  for batch_no, batch in enumerate(testloader):\n",
        "    lenet.eval()\n",
        "    X_test, y_test = batch\n",
        "    out = lenet(X_test)\n",
        "    loss = criterion(out, y_test)\n",
        "    running_loss += loss.item()\n",
        "\n",
        "    _, out_labels = torch.max(out, dim = 1)\n",
        "    total += y_test.shape[0]\n",
        "    correct += (y_test == out_labels).sum().item()\n",
        "print(f\"Loss - {running_loss/batch_no}, accuracy - {correct/total}\")\n"
      ],
      "metadata": {
        "colab": {
          "base_uri": "https://localhost:8080/"
        },
        "id": "bXrD9O9svLGC",
        "outputId": "722dd171-fb8d-40c6-8064-77aca3594ed9"
      },
      "execution_count": 32,
      "outputs": [
        {
          "output_type": "stream",
          "name": "stdout",
          "text": [
            "Loss - 1.0437937566649769, accuracy - 0.6503\n"
          ]
        }
      ]
    },
    {
      "cell_type": "code",
      "source": [],
      "metadata": {
        "id": "ILC9nlaovLDn"
      },
      "execution_count": null,
      "outputs": []
    },
    {
      "cell_type": "code",
      "source": [],
      "metadata": {
        "id": "rHGBUtQ6vLBP"
      },
      "execution_count": null,
      "outputs": []
    },
    {
      "cell_type": "code",
      "source": [],
      "metadata": {
        "id": "m620R4OmvK-y"
      },
      "execution_count": null,
      "outputs": []
    }
  ]
}