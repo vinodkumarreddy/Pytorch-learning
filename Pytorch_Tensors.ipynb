{
  "nbformat": 4,
  "nbformat_minor": 0,
  "metadata": {
    "colab": {
      "provenance": [],
      "authorship_tag": "ABX9TyPnyn/tyixJy5EpjqUnXdeo",
      "include_colab_link": true
    },
    "kernelspec": {
      "name": "python3",
      "display_name": "Python 3"
    },
    "language_info": {
      "name": "python"
    }
  },
  "cells": [
    {
      "cell_type": "markdown",
      "metadata": {
        "id": "view-in-github",
        "colab_type": "text"
      },
      "source": [
        "<a href=\"https://colab.research.google.com/github/vinodkumarreddy/Pytorch-learning/blob/main/Pytorch_Tensors.ipynb\" target=\"_parent\"><img src=\"https://colab.research.google.com/assets/colab-badge.svg\" alt=\"Open In Colab\"/></a>"
      ]
    },
    {
      "cell_type": "markdown",
      "source": [
        "First Section is on how to create a tensor. We already know all the corresponding functions. Then he discusses on random seeds and how initializing them would mean that the sequence of number generated given a random seed is deterministic. Then he moves on to shapes and like functions"
      ],
      "metadata": {
        "id": "Xq-qGxi6LSQn"
      }
    },
    {
      "cell_type": "code",
      "source": [
        "import torch\n",
        "import torchvision"
      ],
      "metadata": {
        "id": "lzOboIHKLSBT"
      },
      "execution_count": null,
      "outputs": []
    },
    {
      "cell_type": "code",
      "source": [
        "a_t = torch.rand(size = (3,2))"
      ],
      "metadata": {
        "id": "_LSdTFSSLR_r"
      },
      "execution_count": null,
      "outputs": []
    },
    {
      "cell_type": "code",
      "source": [
        "b_t = torch.ones_like(a_t)"
      ],
      "metadata": {
        "id": "rR0nz_BmLR9Y"
      },
      "execution_count": null,
      "outputs": []
    },
    {
      "cell_type": "code",
      "source": [
        "a_t.shape, b_t.shape"
      ],
      "metadata": {
        "colab": {
          "base_uri": "https://localhost:8080/"
        },
        "id": "TnhZ4V27LR7B",
        "outputId": "5e204eda-3e10-4156-cba1-54d9ad7ab17a"
      },
      "execution_count": null,
      "outputs": [
        {
          "output_type": "execute_result",
          "data": {
            "text/plain": [
              "(torch.Size([3, 2]), torch.Size([3, 2]))"
            ]
          },
          "metadata": {},
          "execution_count": 4
        }
      ]
    },
    {
      "cell_type": "markdown",
      "source": [
        "Moves on to discuss how to convert standard python datatypes like list of lists etc into tensors using the torch.tensor function"
      ],
      "metadata": {
        "id": "SXxuF__XL7QQ"
      }
    },
    {
      "cell_type": "code",
      "source": [],
      "metadata": {
        "id": "sWQU9C4KLR4l"
      },
      "execution_count": null,
      "outputs": []
    },
    {
      "cell_type": "markdown",
      "source": [
        "Next is on datatypes and type conversions. By default most tensors are of the type float32. We can change the tensor format by specifying the requisite format while creating the tensor or we can also type cast the tensor using the .to function."
      ],
      "metadata": {
        "id": "o7qLw6OUMGob"
      }
    },
    {
      "cell_type": "code",
      "source": [
        "a = torch.ones((3,2))"
      ],
      "metadata": {
        "id": "IZC9YrUaLR1-"
      },
      "execution_count": null,
      "outputs": []
    },
    {
      "cell_type": "code",
      "source": [
        "a.dtype"
      ],
      "metadata": {
        "colab": {
          "base_uri": "https://localhost:8080/"
        },
        "id": "4gxjVh15LRza",
        "outputId": "6db5d0a6-4acd-4e35-d2fe-80dec3bda3d3"
      },
      "execution_count": null,
      "outputs": [
        {
          "output_type": "execute_result",
          "data": {
            "text/plain": [
              "torch.float32"
            ]
          },
          "metadata": {},
          "execution_count": 6
        }
      ]
    },
    {
      "cell_type": "code",
      "source": [
        "a.to(torch.int32).dtype"
      ],
      "metadata": {
        "colab": {
          "base_uri": "https://localhost:8080/"
        },
        "id": "3Hy734kVLRw9",
        "outputId": "2a177ee9-3d7c-4892-d5db-cfc893ab3412"
      },
      "execution_count": null,
      "outputs": [
        {
          "output_type": "execute_result",
          "data": {
            "text/plain": [
              "torch.int32"
            ]
          },
          "metadata": {},
          "execution_count": 8
        }
      ]
    },
    {
      "cell_type": "code",
      "source": [
        "a = [[1,1], [2,1]]"
      ],
      "metadata": {
        "id": "AJXJitDRLRub"
      },
      "execution_count": null,
      "outputs": []
    },
    {
      "cell_type": "code",
      "source": [
        "a"
      ],
      "metadata": {
        "colab": {
          "base_uri": "https://localhost:8080/"
        },
        "id": "9uAt2GIKLRr3",
        "outputId": "1e1a5686-6eac-4365-967f-3fafeac37d45"
      },
      "execution_count": null,
      "outputs": [
        {
          "output_type": "execute_result",
          "data": {
            "text/plain": [
              "[[1, 1], [2, 1]]"
            ]
          },
          "metadata": {},
          "execution_count": 10
        }
      ]
    },
    {
      "cell_type": "code",
      "source": [
        "a_t = torch.tensor(a)"
      ],
      "metadata": {
        "id": "ZnBLQ9_ILRpg"
      },
      "execution_count": null,
      "outputs": []
    },
    {
      "cell_type": "code",
      "source": [
        "a_t.dtype"
      ],
      "metadata": {
        "colab": {
          "base_uri": "https://localhost:8080/"
        },
        "id": "0CXT1yPLLQvM",
        "outputId": "f9e0c5af-7d12-4924-b54e-27ad64eb7b1f"
      },
      "execution_count": null,
      "outputs": [
        {
          "output_type": "execute_result",
          "data": {
            "text/plain": [
              "torch.int64"
            ]
          },
          "metadata": {},
          "execution_count": 12
        }
      ]
    },
    {
      "cell_type": "markdown",
      "source": [
        "One of the cases where the default data type if inferred from the data is when we are converting some existing python datatype to tensor. It seems like the data type is being inferref from the data."
      ],
      "metadata": {
        "id": "b4nQcKofMy2D"
      }
    },
    {
      "cell_type": "code",
      "source": [
        "a = [[1,1.1], [2.1,1.2]]"
      ],
      "metadata": {
        "id": "lskYQqf3LQsn"
      },
      "execution_count": null,
      "outputs": []
    },
    {
      "cell_type": "code",
      "source": [
        "torch.tensor(a).dtype"
      ],
      "metadata": {
        "colab": {
          "base_uri": "https://localhost:8080/"
        },
        "id": "HCKYylC9LQqF",
        "outputId": "3b30bdf7-9661-4cb3-8636-ed7559642ead"
      },
      "execution_count": null,
      "outputs": [
        {
          "output_type": "execute_result",
          "data": {
            "text/plain": [
              "torch.float32"
            ]
          },
          "metadata": {},
          "execution_count": 14
        }
      ]
    },
    {
      "cell_type": "code",
      "source": [],
      "metadata": {
        "id": "bX0rRzCDNEar"
      },
      "execution_count": null,
      "outputs": []
    },
    {
      "cell_type": "markdown",
      "source": [
        "Generic math operations on tensors"
      ],
      "metadata": {
        "id": "y6D_PdKANHvB"
      }
    },
    {
      "cell_type": "code",
      "source": [
        "ones = torch.ones((3,4))\n",
        "twos = ones*2\n",
        "threes = twos + ones\n",
        "fours = twos**2\n",
        "sqrts = twos**0.5"
      ],
      "metadata": {
        "id": "FNjpPROsNEXT"
      },
      "execution_count": null,
      "outputs": []
    },
    {
      "cell_type": "code",
      "source": [
        "ones"
      ],
      "metadata": {
        "colab": {
          "base_uri": "https://localhost:8080/"
        },
        "id": "bu_DgT7UNEVM",
        "outputId": "b6487abf-13b9-424c-b37e-8d10a3cfce74"
      },
      "execution_count": null,
      "outputs": [
        {
          "output_type": "execute_result",
          "data": {
            "text/plain": [
              "tensor([[1., 1., 1., 1.],\n",
              "        [1., 1., 1., 1.],\n",
              "        [1., 1., 1., 1.]])"
            ]
          },
          "metadata": {},
          "execution_count": 20
        }
      ]
    },
    {
      "cell_type": "code",
      "source": [
        "twos"
      ],
      "metadata": {
        "colab": {
          "base_uri": "https://localhost:8080/"
        },
        "id": "4Ggj6XsONES4",
        "outputId": "aae4364b-8c26-4a03-caa0-6544bffef827"
      },
      "execution_count": null,
      "outputs": [
        {
          "output_type": "execute_result",
          "data": {
            "text/plain": [
              "tensor([[2., 2., 2., 2.],\n",
              "        [2., 2., 2., 2.],\n",
              "        [2., 2., 2., 2.]])"
            ]
          },
          "metadata": {},
          "execution_count": 21
        }
      ]
    },
    {
      "cell_type": "code",
      "source": [
        "threes"
      ],
      "metadata": {
        "colab": {
          "base_uri": "https://localhost:8080/"
        },
        "id": "lTgeLGLyNEQe",
        "outputId": "d82374bf-780f-4be5-958b-9da372f1db25"
      },
      "execution_count": null,
      "outputs": [
        {
          "output_type": "execute_result",
          "data": {
            "text/plain": [
              "tensor([[3., 3., 3., 3.],\n",
              "        [3., 3., 3., 3.],\n",
              "        [3., 3., 3., 3.]])"
            ]
          },
          "metadata": {},
          "execution_count": 22
        }
      ]
    },
    {
      "cell_type": "code",
      "source": [
        "fours"
      ],
      "metadata": {
        "colab": {
          "base_uri": "https://localhost:8080/"
        },
        "id": "OTMk8QUqNEN9",
        "outputId": "cf996688-2f9e-45f7-9b37-b245ade2cab4"
      },
      "execution_count": null,
      "outputs": [
        {
          "output_type": "execute_result",
          "data": {
            "text/plain": [
              "tensor([[4., 4., 4., 4.],\n",
              "        [4., 4., 4., 4.],\n",
              "        [4., 4., 4., 4.]])"
            ]
          },
          "metadata": {},
          "execution_count": 23
        }
      ]
    },
    {
      "cell_type": "code",
      "source": [
        "sqrts"
      ],
      "metadata": {
        "colab": {
          "base_uri": "https://localhost:8080/"
        },
        "id": "RqPxuDe5NELl",
        "outputId": "5a08d9d0-0551-4558-b842-313c12e5470d"
      },
      "execution_count": null,
      "outputs": [
        {
          "output_type": "execute_result",
          "data": {
            "text/plain": [
              "tensor([[1.4142, 1.4142, 1.4142, 1.4142],\n",
              "        [1.4142, 1.4142, 1.4142, 1.4142],\n",
              "        [1.4142, 1.4142, 1.4142, 1.4142]])"
            ]
          },
          "metadata": {},
          "execution_count": 24
        }
      ]
    },
    {
      "cell_type": "markdown",
      "source": [
        "Generally any operation with a scalar is broadcasted to the whole tensor. Similarly element wise operations occur when we are doing these operations between to tensors. There is also broadcasting in these cases as well"
      ],
      "metadata": {
        "id": "d6DnBhAcNgk4"
      }
    },
    {
      "cell_type": "code",
      "source": [
        "# Double broadcasting test\n",
        "a = torch.ones(size = (3,1))\n",
        "b = torch.rand((1,2))\n",
        "a, b"
      ],
      "metadata": {
        "colab": {
          "base_uri": "https://localhost:8080/"
        },
        "id": "V2BsmpOjNgSO",
        "outputId": "ff3ca439-ec6e-4fa0-af91-e806597dec26"
      },
      "execution_count": null,
      "outputs": [
        {
          "output_type": "execute_result",
          "data": {
            "text/plain": [
              "(tensor([[1.],\n",
              "         [1.],\n",
              "         [1.]]),\n",
              " tensor([[0.0298, 0.9041]]))"
            ]
          },
          "metadata": {},
          "execution_count": 25
        }
      ]
    },
    {
      "cell_type": "code",
      "source": [
        "a*b"
      ],
      "metadata": {
        "colab": {
          "base_uri": "https://localhost:8080/"
        },
        "id": "i4s4SF16NEJI",
        "outputId": "d23564ea-36a6-4a6f-89e5-1ec103d8977d"
      },
      "execution_count": null,
      "outputs": [
        {
          "output_type": "execute_result",
          "data": {
            "text/plain": [
              "tensor([[0.0298, 0.9041],\n",
              "        [0.0298, 0.9041],\n",
              "        [0.0298, 0.9041]])"
            ]
          },
          "metadata": {},
          "execution_count": 26
        }
      ]
    },
    {
      "cell_type": "markdown",
      "source": [
        "There are also many math operations supported by pytorch. Need to check if every operation allows for gradient calculations"
      ],
      "metadata": {
        "id": "VAOiJUPXOj4B"
      }
    },
    {
      "cell_type": "code",
      "source": [
        "import torch"
      ],
      "metadata": {
        "id": "eTfk9jNKNEGx"
      },
      "execution_count": 1,
      "outputs": []
    },
    {
      "cell_type": "markdown",
      "source": [
        "Testing out various functions available in pytorch"
      ],
      "metadata": {
        "id": "7ZAhxgPvugvv"
      }
    },
    {
      "cell_type": "code",
      "source": [
        "a_t = torch.rand(size = (2,2)) * 10 - 5"
      ],
      "metadata": {
        "id": "C-YWpH8FNEEZ"
      },
      "execution_count": 2,
      "outputs": []
    },
    {
      "cell_type": "code",
      "source": [
        "a_t"
      ],
      "metadata": {
        "colab": {
          "base_uri": "https://localhost:8080/"
        },
        "id": "EByBMB4KuwQ_",
        "outputId": "231b344a-3c2c-4c4c-824a-d395e97555b3"
      },
      "execution_count": 5,
      "outputs": [
        {
          "output_type": "execute_result",
          "data": {
            "text/plain": [
              "tensor([[-1.3697,  4.4144],\n",
              "        [-4.0055, -2.3486]])"
            ]
          },
          "metadata": {},
          "execution_count": 5
        }
      ]
    },
    {
      "cell_type": "code",
      "source": [
        "torch.abs(a_t)"
      ],
      "metadata": {
        "id": "HgMGUI_JNEB9",
        "colab": {
          "base_uri": "https://localhost:8080/"
        },
        "outputId": "0c6953d6-0338-4df4-966d-e9fe9db4688c"
      },
      "execution_count": 3,
      "outputs": [
        {
          "output_type": "execute_result",
          "data": {
            "text/plain": [
              "tensor([[1.3697, 4.4144],\n",
              "        [4.0055, 2.3486]])"
            ]
          },
          "metadata": {},
          "execution_count": 3
        }
      ]
    },
    {
      "cell_type": "code",
      "source": [
        "torch.ceil(a_t)"
      ],
      "metadata": {
        "colab": {
          "base_uri": "https://localhost:8080/"
        },
        "id": "9ydOzzTfuviB",
        "outputId": "3c3050ab-0688-473a-8ff8-5035bcff2bdf"
      },
      "execution_count": 6,
      "outputs": [
        {
          "output_type": "execute_result",
          "data": {
            "text/plain": [
              "tensor([[-1.,  5.],\n",
              "        [-4., -2.]])"
            ]
          },
          "metadata": {},
          "execution_count": 6
        }
      ]
    },
    {
      "cell_type": "code",
      "execution_count": 7,
      "metadata": {
        "id": "0F0Q3EV_Milr",
        "colab": {
          "base_uri": "https://localhost:8080/"
        },
        "outputId": "0687320d-4442-44f2-d593-44d32f1afcda"
      },
      "outputs": [
        {
          "output_type": "execute_result",
          "data": {
            "text/plain": [
              "tensor([[-2.,  4.],\n",
              "        [-5., -3.]])"
            ]
          },
          "metadata": {},
          "execution_count": 7
        }
      ],
      "source": [
        "torch.floor(a_t)"
      ]
    },
    {
      "cell_type": "code",
      "source": [
        "torch.clamp(a_t, -2, 2)"
      ],
      "metadata": {
        "colab": {
          "base_uri": "https://localhost:8080/"
        },
        "id": "TGo-sUtau3np",
        "outputId": "13c59550-acab-4d29-e8fb-f7627652e637"
      },
      "execution_count": 8,
      "outputs": [
        {
          "output_type": "execute_result",
          "data": {
            "text/plain": [
              "tensor([[-1.3697,  2.0000],\n",
              "        [-2.0000, -2.0000]])"
            ]
          },
          "metadata": {},
          "execution_count": 8
        }
      ]
    },
    {
      "cell_type": "code",
      "source": [],
      "metadata": {
        "id": "6csRypWDu-S2"
      },
      "execution_count": null,
      "outputs": []
    },
    {
      "cell_type": "code",
      "source": [
        "import math"
      ],
      "metadata": {
        "id": "cmVXL2g5vFwq"
      },
      "execution_count": 9,
      "outputs": []
    },
    {
      "cell_type": "code",
      "source": [
        "math.pi"
      ],
      "metadata": {
        "colab": {
          "base_uri": "https://localhost:8080/"
        },
        "id": "UHrByD9vvGlO",
        "outputId": "49cca273-c3d1-42ff-8016-400563035329"
      },
      "execution_count": 10,
      "outputs": [
        {
          "output_type": "execute_result",
          "data": {
            "text/plain": [
              "3.141592653589793"
            ]
          },
          "metadata": {},
          "execution_count": 10
        }
      ]
    },
    {
      "cell_type": "code",
      "source": [
        "angle_t = torch.tensor([math.pi/4, math.pi/3, math.pi/2, math.pi])"
      ],
      "metadata": {
        "id": "FQiWo4E6vB54"
      },
      "execution_count": 11,
      "outputs": []
    },
    {
      "cell_type": "code",
      "source": [
        "torch.sin(angle_t)"
      ],
      "metadata": {
        "colab": {
          "base_uri": "https://localhost:8080/"
        },
        "id": "EGcyZGA8vB2h",
        "outputId": "8ba52d8e-6f39-40a4-c7d6-f5384cc0f834"
      },
      "execution_count": 12,
      "outputs": [
        {
          "output_type": "execute_result",
          "data": {
            "text/plain": [
              "tensor([ 7.0711e-01,  8.6603e-01,  1.0000e+00, -8.7423e-08])"
            ]
          },
          "metadata": {},
          "execution_count": 12
        }
      ]
    },
    {
      "cell_type": "code",
      "source": [
        "torch.cos(angle_t)"
      ],
      "metadata": {
        "colab": {
          "base_uri": "https://localhost:8080/"
        },
        "id": "tptqZFh5vB0M",
        "outputId": "8c064551-087d-410a-c37c-cb87fef7b243"
      },
      "execution_count": 14,
      "outputs": [
        {
          "output_type": "execute_result",
          "data": {
            "text/plain": [
              "tensor([ 7.0711e-01,  5.0000e-01, -4.3711e-08, -1.0000e+00])"
            ]
          },
          "metadata": {},
          "execution_count": 14
        }
      ]
    },
    {
      "cell_type": "code",
      "source": [
        "torch.asin(torch.sin(angle_t))"
      ],
      "metadata": {
        "colab": {
          "base_uri": "https://localhost:8080/"
        },
        "id": "OgSe5PkAvBx9",
        "outputId": "ee4ff12d-6052-4890-ef0c-923dbddbee8d"
      },
      "execution_count": 15,
      "outputs": [
        {
          "output_type": "execute_result",
          "data": {
            "text/plain": [
              "tensor([ 7.8540e-01,  1.0472e+00,  1.5708e+00, -8.7423e-08])"
            ]
          },
          "metadata": {},
          "execution_count": 15
        }
      ]
    },
    {
      "cell_type": "code",
      "source": [
        "angle_t"
      ],
      "metadata": {
        "colab": {
          "base_uri": "https://localhost:8080/"
        },
        "id": "U0f8M6vVvBvv",
        "outputId": "3458be04-c819-4e98-deab-2cdc77530722"
      },
      "execution_count": 16,
      "outputs": [
        {
          "output_type": "execute_result",
          "data": {
            "text/plain": [
              "tensor([0.7854, 1.0472, 1.5708, 3.1416])"
            ]
          },
          "metadata": {},
          "execution_count": 16
        }
      ]
    },
    {
      "cell_type": "code",
      "source": [],
      "metadata": {
        "id": "ghio4S0DvBtp"
      },
      "execution_count": null,
      "outputs": []
    },
    {
      "cell_type": "code",
      "source": [
        "d = torch.tensor([[1., 2.], [3., 4.]])\n",
        "e = torch.ones(1, 2)  # many comparison ops support broadcasting!\n",
        "print(torch.eq(d, e))"
      ],
      "metadata": {
        "colab": {
          "base_uri": "https://localhost:8080/"
        },
        "id": "V4LJNyo5vBrI",
        "outputId": "6ecd9126-ea1e-4df4-c5b7-49cd18ae0a0a"
      },
      "execution_count": 17,
      "outputs": [
        {
          "output_type": "stream",
          "name": "stdout",
          "text": [
            "tensor([[ True, False],\n",
            "        [False, False]])\n"
          ]
        }
      ]
    },
    {
      "cell_type": "code",
      "source": [
        "d == e"
      ],
      "metadata": {
        "colab": {
          "base_uri": "https://localhost:8080/"
        },
        "id": "9amiSMYDvBow",
        "outputId": "dbd03ea2-701a-4e2e-b040-45775d9d2386"
      },
      "execution_count": 18,
      "outputs": [
        {
          "output_type": "execute_result",
          "data": {
            "text/plain": [
              "tensor([[ True, False],\n",
              "        [False, False]])"
            ]
          },
          "metadata": {},
          "execution_count": 18
        }
      ]
    },
    {
      "cell_type": "code",
      "source": [
        "d >= e"
      ],
      "metadata": {
        "colab": {
          "base_uri": "https://localhost:8080/"
        },
        "id": "olPF9-mSvBmF",
        "outputId": "b5a11a14-5d7b-4a38-e370-9990bb926135"
      },
      "execution_count": 19,
      "outputs": [
        {
          "output_type": "execute_result",
          "data": {
            "text/plain": [
              "tensor([[True, True],\n",
              "        [True, True]])"
            ]
          },
          "metadata": {},
          "execution_count": 19
        }
      ]
    },
    {
      "cell_type": "code",
      "source": [],
      "metadata": {
        "id": "nhYtt19nyCcu"
      },
      "execution_count": null,
      "outputs": []
    },
    {
      "cell_type": "code",
      "source": [
        "torch.max??"
      ],
      "metadata": {
        "id": "Xo7LxZ3tyCZL"
      },
      "execution_count": 20,
      "outputs": []
    },
    {
      "cell_type": "code",
      "source": [
        "a_t = torch.rand(size = (2,3,2))"
      ],
      "metadata": {
        "id": "y2G8A2N_yCVC"
      },
      "execution_count": 21,
      "outputs": []
    },
    {
      "cell_type": "code",
      "source": [
        "a_t"
      ],
      "metadata": {
        "colab": {
          "base_uri": "https://localhost:8080/"
        },
        "id": "xHf6ygHfyCSr",
        "outputId": "9c27304e-2a04-4afc-c76b-7be0d11c6390"
      },
      "execution_count": 22,
      "outputs": [
        {
          "output_type": "execute_result",
          "data": {
            "text/plain": [
              "tensor([[[0.0660, 0.9148],\n",
              "         [0.6369, 0.0686],\n",
              "         [0.9092, 0.6599]],\n",
              "\n",
              "        [[0.0113, 0.7694],\n",
              "         [0.4297, 0.9270],\n",
              "         [0.5566, 0.8728]]])"
            ]
          },
          "metadata": {},
          "execution_count": 22
        }
      ]
    },
    {
      "cell_type": "code",
      "source": [
        "torch.max(a_t)"
      ],
      "metadata": {
        "colab": {
          "base_uri": "https://localhost:8080/"
        },
        "id": "liN6vhvEyCQJ",
        "outputId": "5e08eb96-dc75-4e19-8829-5ee48fab972e"
      },
      "execution_count": 24,
      "outputs": [
        {
          "output_type": "execute_result",
          "data": {
            "text/plain": [
              "tensor(0.9270)"
            ]
          },
          "metadata": {},
          "execution_count": 24
        }
      ]
    },
    {
      "cell_type": "code",
      "source": [
        "torch.max(input = a_t, dim = 0)"
      ],
      "metadata": {
        "colab": {
          "base_uri": "https://localhost:8080/"
        },
        "id": "gF1R4jDQyCNi",
        "outputId": "ccea554a-fbc4-41e1-c3d7-1d184084cde6"
      },
      "execution_count": 25,
      "outputs": [
        {
          "output_type": "execute_result",
          "data": {
            "text/plain": [
              "torch.return_types.max(\n",
              "values=tensor([[0.0660, 0.9148],\n",
              "        [0.6369, 0.9270],\n",
              "        [0.9092, 0.8728]]),\n",
              "indices=tensor([[0, 0],\n",
              "        [0, 1],\n",
              "        [0, 1]]))"
            ]
          },
          "metadata": {},
          "execution_count": 25
        }
      ]
    },
    {
      "cell_type": "code",
      "source": [
        "torch.max(input = a_t, dim = 1)"
      ],
      "metadata": {
        "colab": {
          "base_uri": "https://localhost:8080/"
        },
        "id": "rUhNtRQxyCK9",
        "outputId": "0a2f44f0-ab26-48de-a48d-89aa20c1eeed"
      },
      "execution_count": 26,
      "outputs": [
        {
          "output_type": "execute_result",
          "data": {
            "text/plain": [
              "torch.return_types.max(\n",
              "values=tensor([[0.9092, 0.9148],\n",
              "        [0.5566, 0.9270]]),\n",
              "indices=tensor([[2, 0],\n",
              "        [2, 1]]))"
            ]
          },
          "metadata": {},
          "execution_count": 26
        }
      ]
    },
    {
      "cell_type": "code",
      "source": [],
      "metadata": {
        "id": "80Eho4ZTvBjl"
      },
      "execution_count": null,
      "outputs": []
    },
    {
      "cell_type": "markdown",
      "source": [
        "In case of converting the predicted values to corresponding class"
      ],
      "metadata": {
        "id": "QpoVQctky_Te"
      }
    },
    {
      "cell_type": "code",
      "source": [
        "outputs = torch.rand(size = (100, 20))"
      ],
      "metadata": {
        "id": "J6Z1sfl8y-4c"
      },
      "execution_count": 27,
      "outputs": []
    },
    {
      "cell_type": "code",
      "source": [
        "output_class_probs, output_classes = torch.max(outputs, dim = 1)"
      ],
      "metadata": {
        "id": "t08YAvX0vBhD"
      },
      "execution_count": 29,
      "outputs": []
    },
    {
      "cell_type": "code",
      "source": [
        "output_classes.shape"
      ],
      "metadata": {
        "colab": {
          "base_uri": "https://localhost:8080/"
        },
        "id": "ELHA8NWxzOOt",
        "outputId": "c2141cc0-8589-423f-b88b-db9dbcf5e307"
      },
      "execution_count": 31,
      "outputs": [
        {
          "output_type": "execute_result",
          "data": {
            "text/plain": [
              "torch.Size([100])"
            ]
          },
          "metadata": {},
          "execution_count": 31
        }
      ]
    },
    {
      "cell_type": "code",
      "source": [
        "torch.mean(a_t, dim = 0).shape"
      ],
      "metadata": {
        "colab": {
          "base_uri": "https://localhost:8080/"
        },
        "id": "MdjfsMX2zSmS",
        "outputId": "99d4184c-4d68-455c-be38-8a4f2515df56"
      },
      "execution_count": 32,
      "outputs": [
        {
          "output_type": "execute_result",
          "data": {
            "text/plain": [
              "torch.Size([3, 2])"
            ]
          },
          "metadata": {},
          "execution_count": 32
        }
      ]
    },
    {
      "cell_type": "code",
      "source": [
        "torch.mean??"
      ],
      "metadata": {
        "id": "4m5GxVkSzYi4"
      },
      "execution_count": 33,
      "outputs": []
    },
    {
      "cell_type": "code",
      "source": [
        "torch.std(a_t)"
      ],
      "metadata": {
        "colab": {
          "base_uri": "https://localhost:8080/"
        },
        "id": "ZLeWbArYzl2U",
        "outputId": "03c8623c-7903-4198-d63e-67ab1d5dc83d"
      },
      "execution_count": 34,
      "outputs": [
        {
          "output_type": "execute_result",
          "data": {
            "text/plain": [
              "tensor(0.3494)"
            ]
          },
          "metadata": {},
          "execution_count": 34
        }
      ]
    },
    {
      "cell_type": "code",
      "source": [
        "torch.prod(a_t)"
      ],
      "metadata": {
        "colab": {
          "base_uri": "https://localhost:8080/"
        },
        "id": "omxWEyOLzly9",
        "outputId": "dc4f6ac5-ba59-4355-a6e3-29a7acc102f2"
      },
      "execution_count": 35,
      "outputs": [
        {
          "output_type": "execute_result",
          "data": {
            "text/plain": [
              "tensor(2.6755e-06)"
            ]
          },
          "metadata": {},
          "execution_count": 35
        }
      ]
    },
    {
      "cell_type": "code",
      "source": [],
      "metadata": {
        "id": "5lneTjxtzlw2"
      },
      "execution_count": null,
      "outputs": []
    },
    {
      "cell_type": "markdown",
      "source": [
        "Assigning a tensor to another would not copy the tensor. Instead it just copies the pointer. We would need to explicitly use the clone method to copy a tensor. Clone also looks at the original autograd settings of the tensor. If the original has grad turned on then clone will also have it and any gradient will be propogated to the original while doing backward(). There is also the detach method. While just gets the tensor values without affecting the computational gradient. Does it create a clone?"
      ],
      "metadata": {
        "id": "y-6uDsCc3nF3"
      }
    },
    {
      "cell_type": "code",
      "source": [
        "a = torch.rand(size = (3,4), requires_grad = True)"
      ],
      "metadata": {
        "id": "JH0iGN4GzluW"
      },
      "execution_count": 38,
      "outputs": []
    },
    {
      "cell_type": "code",
      "source": [
        "a"
      ],
      "metadata": {
        "colab": {
          "base_uri": "https://localhost:8080/"
        },
        "id": "0N7aWsKhzlsA",
        "outputId": "62f2ccfd-f881-4a7e-89ff-8d950383cd2a"
      },
      "execution_count": 39,
      "outputs": [
        {
          "output_type": "execute_result",
          "data": {
            "text/plain": [
              "tensor([[0.3308, 0.2392, 0.7425, 0.6823],\n",
              "        [0.3806, 0.0097, 0.3490, 0.1767],\n",
              "        [0.9397, 0.1434, 0.4187, 0.0665]], requires_grad=True)"
            ]
          },
          "metadata": {},
          "execution_count": 39
        }
      ]
    },
    {
      "cell_type": "code",
      "source": [
        "b = a.detach()"
      ],
      "metadata": {
        "id": "-9j_Cgdnzlpu"
      },
      "execution_count": 40,
      "outputs": []
    },
    {
      "cell_type": "code",
      "source": [
        "assert b is not a"
      ],
      "metadata": {
        "id": "fPP7MSy0zlm8"
      },
      "execution_count": 42,
      "outputs": []
    },
    {
      "cell_type": "code",
      "source": [
        "id(a)"
      ],
      "metadata": {
        "colab": {
          "base_uri": "https://localhost:8080/"
        },
        "id": "fQGMgQOWzlke",
        "outputId": "93c4ee07-9bc6-4ae8-bb12-b19febdb6eac"
      },
      "execution_count": 44,
      "outputs": [
        {
          "output_type": "execute_result",
          "data": {
            "text/plain": [
              "139525899083328"
            ]
          },
          "metadata": {},
          "execution_count": 44
        }
      ]
    },
    {
      "cell_type": "code",
      "source": [
        "id(b)"
      ],
      "metadata": {
        "colab": {
          "base_uri": "https://localhost:8080/"
        },
        "id": "ugMMd6iLzlh1",
        "outputId": "de558b72-4911-4fc5-a247-7896e5650e94"
      },
      "execution_count": 45,
      "outputs": [
        {
          "output_type": "execute_result",
          "data": {
            "text/plain": [
              "139525901405856"
            ]
          },
          "metadata": {},
          "execution_count": 45
        }
      ]
    },
    {
      "cell_type": "code",
      "source": [
        "b[0][1] = 1"
      ],
      "metadata": {
        "id": "tthLr6VCzbRN"
      },
      "execution_count": 47,
      "outputs": []
    },
    {
      "cell_type": "code",
      "source": [
        "a"
      ],
      "metadata": {
        "colab": {
          "base_uri": "https://localhost:8080/"
        },
        "id": "myqiupob5Sp3",
        "outputId": "f17ade13-7d84-4ab6-b993-599eab468b5d"
      },
      "execution_count": 48,
      "outputs": [
        {
          "output_type": "execute_result",
          "data": {
            "text/plain": [
              "tensor([[0.3308, 1.0000, 0.7425, 0.6823],\n",
              "        [0.3806, 0.0097, 0.3490, 0.1767],\n",
              "        [0.9397, 0.1434, 0.4187, 0.0665]], requires_grad=True)"
            ]
          },
          "metadata": {},
          "execution_count": 48
        }
      ]
    },
    {
      "cell_type": "markdown",
      "source": [
        "It seems like detach doesn't copy the contents for the new tensor. It should be a better idea to first detach and then do a clone so that there is no linkage between the newly created tensor and the original tensor"
      ],
      "metadata": {
        "id": "PLBMNdbl5aek"
      }
    },
    {
      "cell_type": "code",
      "source": [],
      "metadata": {
        "id": "cv6PM0tz5-PV"
      },
      "execution_count": null,
      "outputs": []
    },
    {
      "cell_type": "code",
      "source": [
        "\"gpu\" if torch.cuda.is_available() else \"cpu\""
      ],
      "metadata": {
        "colab": {
          "base_uri": "https://localhost:8080/",
          "height": 35
        },
        "id": "sELB6gJ75-L5",
        "outputId": "911afc8c-5689-4760-d959-b0c7cb28ba18"
      },
      "execution_count": 49,
      "outputs": [
        {
          "output_type": "execute_result",
          "data": {
            "text/plain": [
              "'cpu'"
            ],
            "application/vnd.google.colaboratory.intrinsic+json": {
              "type": "string"
            }
          },
          "metadata": {},
          "execution_count": 49
        }
      ]
    },
    {
      "cell_type": "code",
      "source": [],
      "metadata": {
        "id": "ZaiFiURi5-G6"
      },
      "execution_count": null,
      "outputs": []
    },
    {
      "cell_type": "markdown",
      "source": [
        "Shape editing for tensors"
      ],
      "metadata": {
        "id": "SbgCwHuQ7gZL"
      }
    },
    {
      "cell_type": "code",
      "source": [
        "a = torch.rand(size = (3, 32, 32))"
      ],
      "metadata": {
        "id": "98y5_3q75-Ej"
      },
      "execution_count": 51,
      "outputs": []
    },
    {
      "cell_type": "code",
      "source": [
        "a.shape"
      ],
      "metadata": {
        "colab": {
          "base_uri": "https://localhost:8080/"
        },
        "id": "p7G-qWTy5Z5b",
        "outputId": "34b57bfd-016a-4d14-bb44-8780614a8a77"
      },
      "execution_count": 52,
      "outputs": [
        {
          "output_type": "execute_result",
          "data": {
            "text/plain": [
              "torch.Size([3, 32, 32])"
            ]
          },
          "metadata": {},
          "execution_count": 52
        }
      ]
    },
    {
      "cell_type": "code",
      "source": [
        "a.unsqueeze(0).shape"
      ],
      "metadata": {
        "colab": {
          "base_uri": "https://localhost:8080/"
        },
        "id": "8nZT6GbV5Z1_",
        "outputId": "a8141da3-aaee-49c3-8958-ff0ab55275b2"
      },
      "execution_count": 54,
      "outputs": [
        {
          "output_type": "execute_result",
          "data": {
            "text/plain": [
              "torch.Size([1, 3, 32, 32])"
            ]
          },
          "metadata": {},
          "execution_count": 54
        }
      ]
    },
    {
      "cell_type": "code",
      "source": [
        "a.unsqueeze(1).shape"
      ],
      "metadata": {
        "colab": {
          "base_uri": "https://localhost:8080/"
        },
        "id": "nDTIxuuc5Z0a",
        "outputId": "4213d498-dae0-49f8-917b-c4c424bd6b8d"
      },
      "execution_count": 55,
      "outputs": [
        {
          "output_type": "execute_result",
          "data": {
            "text/plain": [
              "torch.Size([3, 1, 32, 32])"
            ]
          },
          "metadata": {},
          "execution_count": 55
        }
      ]
    },
    {
      "cell_type": "code",
      "source": [
        "a.unsqueeze(2).shape"
      ],
      "metadata": {
        "colab": {
          "base_uri": "https://localhost:8080/"
        },
        "id": "hQBUnDJp5ZyB",
        "outputId": "57ff107c-d9d3-4f16-cb80-0a56054f6947"
      },
      "execution_count": 56,
      "outputs": [
        {
          "output_type": "execute_result",
          "data": {
            "text/plain": [
              "torch.Size([3, 32, 1, 32])"
            ]
          },
          "metadata": {},
          "execution_count": 56
        }
      ]
    },
    {
      "cell_type": "code",
      "source": [
        "a = torch.rand(size = (1, 20))"
      ],
      "metadata": {
        "id": "XRoqNwEw5Zvq"
      },
      "execution_count": 57,
      "outputs": []
    },
    {
      "cell_type": "code",
      "source": [
        "a.shape"
      ],
      "metadata": {
        "colab": {
          "base_uri": "https://localhost:8080/"
        },
        "id": "3JghVygl5ZtJ",
        "outputId": "ecc304f2-b86d-4361-ce4a-2b092a6d1e14"
      },
      "execution_count": 58,
      "outputs": [
        {
          "output_type": "execute_result",
          "data": {
            "text/plain": [
              "torch.Size([1, 20])"
            ]
          },
          "metadata": {},
          "execution_count": 58
        }
      ]
    },
    {
      "cell_type": "code",
      "source": [
        "a.squeeze().shape"
      ],
      "metadata": {
        "colab": {
          "base_uri": "https://localhost:8080/"
        },
        "id": "D8bFd1315Zqn",
        "outputId": "016f49ef-16a0-4a14-ec69-ee1224c27140"
      },
      "execution_count": 59,
      "outputs": [
        {
          "output_type": "execute_result",
          "data": {
            "text/plain": [
              "torch.Size([20])"
            ]
          },
          "metadata": {},
          "execution_count": 59
        }
      ]
    },
    {
      "cell_type": "code",
      "source": [],
      "metadata": {
        "id": "tLTDv7Gp5Zoc"
      },
      "execution_count": null,
      "outputs": []
    },
    {
      "cell_type": "code",
      "source": [],
      "metadata": {
        "id": "YeR0ZiYi5UsY"
      },
      "execution_count": null,
      "outputs": []
    }
  ]
}