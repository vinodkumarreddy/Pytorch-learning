{
  "nbformat": 4,
  "nbformat_minor": 0,
  "metadata": {
    "colab": {
      "provenance": [],
      "authorship_tag": "ABX9TyPu/CaXvLrr3H4y2wh+SP3W",
      "include_colab_link": true
    },
    "kernelspec": {
      "name": "python3",
      "display_name": "Python 3"
    },
    "language_info": {
      "name": "python"
    }
  },
  "cells": [
    {
      "cell_type": "markdown",
      "metadata": {
        "id": "view-in-github",
        "colab_type": "text"
      },
      "source": [
        "<a href=\"https://colab.research.google.com/github/vinodkumarreddy/Pytorch-learning/blob/main/Pytorch_Tensors.ipynb\" target=\"_parent\"><img src=\"https://colab.research.google.com/assets/colab-badge.svg\" alt=\"Open In Colab\"/></a>"
      ]
    },
    {
      "cell_type": "markdown",
      "source": [
        "First Section is on how to create a tensor. We already know all the corresponding functions. Then he discusses on random seeds and how initializing them would mean that the sequence of number generated given a random seed is deterministic. Then he moves on to shapes and like functions"
      ],
      "metadata": {
        "id": "Xq-qGxi6LSQn"
      }
    },
    {
      "cell_type": "code",
      "source": [
        "import torch\n",
        "import torchvision"
      ],
      "metadata": {
        "id": "lzOboIHKLSBT"
      },
      "execution_count": 1,
      "outputs": []
    },
    {
      "cell_type": "code",
      "source": [
        "a_t = torch.rand(size = (3,2))"
      ],
      "metadata": {
        "id": "_LSdTFSSLR_r"
      },
      "execution_count": 2,
      "outputs": []
    },
    {
      "cell_type": "code",
      "source": [
        "b_t = torch.ones_like(a_t)"
      ],
      "metadata": {
        "id": "rR0nz_BmLR9Y"
      },
      "execution_count": 3,
      "outputs": []
    },
    {
      "cell_type": "code",
      "source": [
        "a_t.shape, b_t.shape"
      ],
      "metadata": {
        "colab": {
          "base_uri": "https://localhost:8080/"
        },
        "id": "TnhZ4V27LR7B",
        "outputId": "5e204eda-3e10-4156-cba1-54d9ad7ab17a"
      },
      "execution_count": 4,
      "outputs": [
        {
          "output_type": "execute_result",
          "data": {
            "text/plain": [
              "(torch.Size([3, 2]), torch.Size([3, 2]))"
            ]
          },
          "metadata": {},
          "execution_count": 4
        }
      ]
    },
    {
      "cell_type": "markdown",
      "source": [
        "Moves on to discuss how to convert standard python datatypes like list of lists etc into tensors using the torch.tensor function"
      ],
      "metadata": {
        "id": "SXxuF__XL7QQ"
      }
    },
    {
      "cell_type": "code",
      "source": [],
      "metadata": {
        "id": "sWQU9C4KLR4l"
      },
      "execution_count": null,
      "outputs": []
    },
    {
      "cell_type": "markdown",
      "source": [
        "Next is on datatypes and type conversions. By default most tensors are of the type float32. We can change the tensor format by specifying the requisite format while creating the tensor or we can also type cast the tensor using the .to function."
      ],
      "metadata": {
        "id": "o7qLw6OUMGob"
      }
    },
    {
      "cell_type": "code",
      "source": [
        "a = torch.ones((3,2))"
      ],
      "metadata": {
        "id": "IZC9YrUaLR1-"
      },
      "execution_count": 5,
      "outputs": []
    },
    {
      "cell_type": "code",
      "source": [
        "a.dtype"
      ],
      "metadata": {
        "colab": {
          "base_uri": "https://localhost:8080/"
        },
        "id": "4gxjVh15LRza",
        "outputId": "6db5d0a6-4acd-4e35-d2fe-80dec3bda3d3"
      },
      "execution_count": 6,
      "outputs": [
        {
          "output_type": "execute_result",
          "data": {
            "text/plain": [
              "torch.float32"
            ]
          },
          "metadata": {},
          "execution_count": 6
        }
      ]
    },
    {
      "cell_type": "code",
      "source": [
        "a.to(torch.int32).dtype"
      ],
      "metadata": {
        "colab": {
          "base_uri": "https://localhost:8080/"
        },
        "id": "3Hy734kVLRw9",
        "outputId": "2a177ee9-3d7c-4892-d5db-cfc893ab3412"
      },
      "execution_count": 8,
      "outputs": [
        {
          "output_type": "execute_result",
          "data": {
            "text/plain": [
              "torch.int32"
            ]
          },
          "metadata": {},
          "execution_count": 8
        }
      ]
    },
    {
      "cell_type": "code",
      "source": [
        "a = [[1,1], [2,1]]"
      ],
      "metadata": {
        "id": "AJXJitDRLRub"
      },
      "execution_count": 9,
      "outputs": []
    },
    {
      "cell_type": "code",
      "source": [
        "a"
      ],
      "metadata": {
        "colab": {
          "base_uri": "https://localhost:8080/"
        },
        "id": "9uAt2GIKLRr3",
        "outputId": "1e1a5686-6eac-4365-967f-3fafeac37d45"
      },
      "execution_count": 10,
      "outputs": [
        {
          "output_type": "execute_result",
          "data": {
            "text/plain": [
              "[[1, 1], [2, 1]]"
            ]
          },
          "metadata": {},
          "execution_count": 10
        }
      ]
    },
    {
      "cell_type": "code",
      "source": [
        "a_t = torch.tensor(a)"
      ],
      "metadata": {
        "id": "ZnBLQ9_ILRpg"
      },
      "execution_count": 11,
      "outputs": []
    },
    {
      "cell_type": "code",
      "source": [
        "a_t.dtype"
      ],
      "metadata": {
        "colab": {
          "base_uri": "https://localhost:8080/"
        },
        "id": "0CXT1yPLLQvM",
        "outputId": "f9e0c5af-7d12-4924-b54e-27ad64eb7b1f"
      },
      "execution_count": 12,
      "outputs": [
        {
          "output_type": "execute_result",
          "data": {
            "text/plain": [
              "torch.int64"
            ]
          },
          "metadata": {},
          "execution_count": 12
        }
      ]
    },
    {
      "cell_type": "markdown",
      "source": [
        "One of the cases where the default data type if inferred from the data is when we are converting some existing python datatype to tensor. It seems like the data type is being inferref from the data."
      ],
      "metadata": {
        "id": "b4nQcKofMy2D"
      }
    },
    {
      "cell_type": "code",
      "source": [
        "a = [[1,1.1], [2.1,1.2]]"
      ],
      "metadata": {
        "id": "lskYQqf3LQsn"
      },
      "execution_count": 13,
      "outputs": []
    },
    {
      "cell_type": "code",
      "source": [
        "torch.tensor(a).dtype"
      ],
      "metadata": {
        "colab": {
          "base_uri": "https://localhost:8080/"
        },
        "id": "HCKYylC9LQqF",
        "outputId": "3b30bdf7-9661-4cb3-8636-ed7559642ead"
      },
      "execution_count": 14,
      "outputs": [
        {
          "output_type": "execute_result",
          "data": {
            "text/plain": [
              "torch.float32"
            ]
          },
          "metadata": {},
          "execution_count": 14
        }
      ]
    },
    {
      "cell_type": "code",
      "source": [],
      "metadata": {
        "id": "bX0rRzCDNEar"
      },
      "execution_count": null,
      "outputs": []
    },
    {
      "cell_type": "markdown",
      "source": [
        "Generic math operations on tensors"
      ],
      "metadata": {
        "id": "y6D_PdKANHvB"
      }
    },
    {
      "cell_type": "code",
      "source": [
        "ones = torch.ones((3,4))\n",
        "twos = ones*2\n",
        "threes = twos + ones\n",
        "fours = twos**2\n",
        "sqrts = twos**0.5"
      ],
      "metadata": {
        "id": "FNjpPROsNEXT"
      },
      "execution_count": 19,
      "outputs": []
    },
    {
      "cell_type": "code",
      "source": [
        "ones"
      ],
      "metadata": {
        "colab": {
          "base_uri": "https://localhost:8080/"
        },
        "id": "bu_DgT7UNEVM",
        "outputId": "b6487abf-13b9-424c-b37e-8d10a3cfce74"
      },
      "execution_count": 20,
      "outputs": [
        {
          "output_type": "execute_result",
          "data": {
            "text/plain": [
              "tensor([[1., 1., 1., 1.],\n",
              "        [1., 1., 1., 1.],\n",
              "        [1., 1., 1., 1.]])"
            ]
          },
          "metadata": {},
          "execution_count": 20
        }
      ]
    },
    {
      "cell_type": "code",
      "source": [
        "twos"
      ],
      "metadata": {
        "colab": {
          "base_uri": "https://localhost:8080/"
        },
        "id": "4Ggj6XsONES4",
        "outputId": "aae4364b-8c26-4a03-caa0-6544bffef827"
      },
      "execution_count": 21,
      "outputs": [
        {
          "output_type": "execute_result",
          "data": {
            "text/plain": [
              "tensor([[2., 2., 2., 2.],\n",
              "        [2., 2., 2., 2.],\n",
              "        [2., 2., 2., 2.]])"
            ]
          },
          "metadata": {},
          "execution_count": 21
        }
      ]
    },
    {
      "cell_type": "code",
      "source": [
        "threes"
      ],
      "metadata": {
        "colab": {
          "base_uri": "https://localhost:8080/"
        },
        "id": "lTgeLGLyNEQe",
        "outputId": "d82374bf-780f-4be5-958b-9da372f1db25"
      },
      "execution_count": 22,
      "outputs": [
        {
          "output_type": "execute_result",
          "data": {
            "text/plain": [
              "tensor([[3., 3., 3., 3.],\n",
              "        [3., 3., 3., 3.],\n",
              "        [3., 3., 3., 3.]])"
            ]
          },
          "metadata": {},
          "execution_count": 22
        }
      ]
    },
    {
      "cell_type": "code",
      "source": [
        "fours"
      ],
      "metadata": {
        "colab": {
          "base_uri": "https://localhost:8080/"
        },
        "id": "OTMk8QUqNEN9",
        "outputId": "cf996688-2f9e-45f7-9b37-b245ade2cab4"
      },
      "execution_count": 23,
      "outputs": [
        {
          "output_type": "execute_result",
          "data": {
            "text/plain": [
              "tensor([[4., 4., 4., 4.],\n",
              "        [4., 4., 4., 4.],\n",
              "        [4., 4., 4., 4.]])"
            ]
          },
          "metadata": {},
          "execution_count": 23
        }
      ]
    },
    {
      "cell_type": "code",
      "source": [
        "sqrts"
      ],
      "metadata": {
        "colab": {
          "base_uri": "https://localhost:8080/"
        },
        "id": "RqPxuDe5NELl",
        "outputId": "5a08d9d0-0551-4558-b842-313c12e5470d"
      },
      "execution_count": 24,
      "outputs": [
        {
          "output_type": "execute_result",
          "data": {
            "text/plain": [
              "tensor([[1.4142, 1.4142, 1.4142, 1.4142],\n",
              "        [1.4142, 1.4142, 1.4142, 1.4142],\n",
              "        [1.4142, 1.4142, 1.4142, 1.4142]])"
            ]
          },
          "metadata": {},
          "execution_count": 24
        }
      ]
    },
    {
      "cell_type": "markdown",
      "source": [
        "Generally any operation with a scalar is broadcasted to the whole tensor. Similarly element wise operations occur when we are doing these operations between to tensors. There is also broadcasting in these cases as well"
      ],
      "metadata": {
        "id": "d6DnBhAcNgk4"
      }
    },
    {
      "cell_type": "code",
      "source": [
        "# Double broadcasting test\n",
        "a = torch.ones(size = (3,1))\n",
        "b = torch.rand((1,2))\n",
        "a, b"
      ],
      "metadata": {
        "colab": {
          "base_uri": "https://localhost:8080/"
        },
        "id": "V2BsmpOjNgSO",
        "outputId": "ff3ca439-ec6e-4fa0-af91-e806597dec26"
      },
      "execution_count": 25,
      "outputs": [
        {
          "output_type": "execute_result",
          "data": {
            "text/plain": [
              "(tensor([[1.],\n",
              "         [1.],\n",
              "         [1.]]),\n",
              " tensor([[0.0298, 0.9041]]))"
            ]
          },
          "metadata": {},
          "execution_count": 25
        }
      ]
    },
    {
      "cell_type": "code",
      "source": [
        "a*b"
      ],
      "metadata": {
        "colab": {
          "base_uri": "https://localhost:8080/"
        },
        "id": "i4s4SF16NEJI",
        "outputId": "d23564ea-36a6-4a6f-89e5-1ec103d8977d"
      },
      "execution_count": 26,
      "outputs": [
        {
          "output_type": "execute_result",
          "data": {
            "text/plain": [
              "tensor([[0.0298, 0.9041],\n",
              "        [0.0298, 0.9041],\n",
              "        [0.0298, 0.9041]])"
            ]
          },
          "metadata": {},
          "execution_count": 26
        }
      ]
    },
    {
      "cell_type": "markdown",
      "source": [
        "There are also many math operations supported by pytorch. Need to check if every operation allows for gradient calculations"
      ],
      "metadata": {
        "id": "VAOiJUPXOj4B"
      }
    },
    {
      "cell_type": "code",
      "source": [],
      "metadata": {
        "id": "eTfk9jNKNEGx"
      },
      "execution_count": null,
      "outputs": []
    },
    {
      "cell_type": "code",
      "source": [],
      "metadata": {
        "id": "C-YWpH8FNEEZ"
      },
      "execution_count": null,
      "outputs": []
    },
    {
      "cell_type": "code",
      "source": [],
      "metadata": {
        "id": "HgMGUI_JNEB9"
      },
      "execution_count": null,
      "outputs": []
    },
    {
      "cell_type": "code",
      "execution_count": null,
      "metadata": {
        "id": "0F0Q3EV_Milr"
      },
      "outputs": [],
      "source": []
    }
  ]
}